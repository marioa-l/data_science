{
  "nbformat": 4,
  "nbformat_minor": 0,
  "metadata": {
    "colab": {
      "provenance": [],
      "authorship_tag": "ABX9TyNZmBj5+/TcIBGZuIURkY21",
      "include_colab_link": true
    },
    "kernelspec": {
      "name": "python3",
      "display_name": "Python 3"
    },
    "language_info": {
      "name": "python"
    }
  },
  "cells": [
    {
      "cell_type": "markdown",
      "metadata": {
        "id": "view-in-github",
        "colab_type": "text"
      },
      "source": [
        "<a href=\"https://colab.research.google.com/github/marioa-l/data_science/blob/main/ECD22_ProyectoFinal_MarioLeiva.ipynb\" target=\"_parent\"><img src=\"https://colab.research.google.com/assets/colab-badge.svg\" alt=\"Open In Colab\"/></a>"
      ]
    },
    {
      "cell_type": "code",
      "execution_count": null,
      "metadata": {
        "id": "L9EKfLX3372J",
        "outputId": "8a804b6f-5ca4-49c1-8340-4a620c84e588",
        "colab": {
          "base_uri": "https://localhost:8080/"
        }
      },
      "outputs": [
        {
          "output_type": "stream",
          "name": "stdout",
          "text": [
            "Mario Alejandro Leiva\n"
          ]
        }
      ],
      "source": [
        "nombre_y_apellido = 'Mario Alejandro Leiva'\n",
        "print(nombre_y_apellido)"
      ]
    },
    {
      "cell_type": "code",
      "source": [
        "# Cargamos algunos paquetes a usar\n",
        "import pandas as pd\n",
        "from google.colab import drive\n",
        "drive.mount('/content/drive')"
      ],
      "metadata": {
        "colab": {
          "base_uri": "https://localhost:8080/"
        },
        "id": "3MPPYwR_pH6s",
        "outputId": "27c2ef4b-3203-426e-94f2-978e08374ef3"
      },
      "execution_count": null,
      "outputs": [
        {
          "output_type": "stream",
          "name": "stdout",
          "text": [
            "Mounted at /content/drive\n"
          ]
        }
      ]
    },
    {
      "cell_type": "code",
      "source": [
        "data = pd.read_csv('/content/drive/MyDrive/Colab Notebooks/Proyecto Final/dataset_ECD23.csv')"
      ],
      "metadata": {
        "id": "8UJBe6D3tIEc"
      },
      "execution_count": null,
      "outputs": []
    },
    {
      "cell_type": "code",
      "source": [
        "data.info()"
      ],
      "metadata": {
        "colab": {
          "base_uri": "https://localhost:8080/"
        },
        "id": "PAtiYTo1ve74",
        "outputId": "ab675b4d-e587-46ce-8251-ca4d1a00f186"
      },
      "execution_count": null,
      "outputs": [
        {
          "output_type": "stream",
          "name": "stdout",
          "text": [
            "<class 'pandas.core.frame.DataFrame'>\n",
            "RangeIndex: 32000 entries, 0 to 31999\n",
            "Data columns (total 21 columns):\n",
            " #   Column        Non-Null Count  Dtype  \n",
            "---  ------        --------------  -----  \n",
            " 0   Unnamed: 0.2  32000 non-null  int64  \n",
            " 1   Unnamed: 0.1  32000 non-null  int64  \n",
            " 2   Unnamed: 0    32000 non-null  int64  \n",
            " 3   program       32000 non-null  int64  \n",
            " 4   BE            32000 non-null  int64  \n",
            " 5   FACTS         32000 non-null  float64\n",
            " 6   DRUL          32000 non-null  float64\n",
            " 7   HEADS         32000 non-null  int64  \n",
            " 8   BODY          32000 non-null  int64  \n",
            " 9   ARGLVL        32000 non-null  int64  \n",
            " 10  LVL           32000 non-null  int64  \n",
            " 11  DEFT          32000 non-null  int64  \n",
            " 12  HEIGHT        32000 non-null  int64  \n",
            " 13  NAR           32000 non-null  int64  \n",
            " 14  ALE           32000 non-null  float64\n",
            " 15  NDT           32000 non-null  int64  \n",
            " 16  AWI           32000 non-null  float64\n",
            " 17  AHE           32000 non-null  float64\n",
            " 18  NRU           32000 non-null  int64  \n",
            " 19  NBE           32000 non-null  int64  \n",
            " 20  TIME          32000 non-null  float64\n",
            "dtypes: float64(6), int64(15)\n",
            "memory usage: 5.1 MB\n"
          ]
        }
      ]
    },
    {
      "cell_type": "code",
      "source": [],
      "metadata": {
        "id": "PtrX-wHfvu5I"
      },
      "execution_count": null,
      "outputs": []
    }
  ]
}